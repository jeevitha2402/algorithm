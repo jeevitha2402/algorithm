{
  "nbformat": 4,
  "nbformat_minor": 0,
  "metadata": {
    "colab": {
      "provenance": [],
      "authorship_tag": "ABX9TyPbpaK3jDCd7/8uaiPhmmJ+",
      "include_colab_link": true
    },
    "kernelspec": {
      "name": "python3",
      "display_name": "Python 3"
    },
    "language_info": {
      "name": "python"
    }
  },
  "cells": [
    {
      "cell_type": "markdown",
      "metadata": {
        "id": "view-in-github",
        "colab_type": "text"
      },
      "source": [
        "<a href=\"https://colab.research.google.com/github/jeevitha2402/algorithm/blob/main/pattern.ipynb\" target=\"_parent\"><img src=\"https://colab.research.google.com/assets/colab-badge.svg\" alt=\"Open In Colab\"/></a>"
      ]
    },
    {
      "cell_type": "code",
      "execution_count": 1,
      "metadata": {
        "colab": {
          "base_uri": "https://localhost:8080/"
        },
        "id": "qCICnhwXDRJP",
        "outputId": "af22eb56-e529-448e-9cfb-b70e4093fda1"
      },
      "outputs": [
        {
          "output_type": "stream",
          "name": "stdout",
          "text": [
            "Pattern found at index  0\n",
            "Pattern found at index  9\n",
            "Pattern found at index  13\n"
          ]
        }
      ],
      "source": [
        "\n",
        "def search(pat, txt):\n",
        "    M = len(pat)\n",
        "    N = len(txt)\n",
        "    for i in range(N - M + 1):\n",
        "        j = 0\n",
        "        for j in range(M):\n",
        "            if txt[i + j] != pat[j]:\n",
        "                break\n",
        "        if j == M - 1:\n",
        "            print(\"Pattern found at index \", i)\n",
        "\n",
        "txt = \"AABAACAADAABAAABAA\"\n",
        "pat = \"AABA\"\n",
        "search(pat, txt)\n"
      ]
    }
  ]
}