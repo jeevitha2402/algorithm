{
  "nbformat": 4,
  "nbformat_minor": 0,
  "metadata": {
    "colab": {
      "provenance": [],
      "authorship_tag": "ABX9TyP9iazQQ7b75UYVwgNs7cgk",
      "include_colab_link": true
    },
    "kernelspec": {
      "name": "python3",
      "display_name": "Python 3"
    },
    "language_info": {
      "name": "python"
    }
  },
  "cells": [
    {
      "cell_type": "markdown",
      "metadata": {
        "id": "view-in-github",
        "colab_type": "text"
      },
      "source": [
        "<a href=\"https://colab.research.google.com/github/jeevitha2402/algorithm/blob/main/kth_smallest.ipynb\" target=\"_parent\"><img src=\"https://colab.research.google.com/assets/colab-badge.svg\" alt=\"Open In Colab\"/></a>"
      ]
    },
    {
      "cell_type": "code",
      "execution_count": 1,
      "metadata": {
        "colab": {
          "base_uri": "https://localhost:8080/"
        },
        "id": "KZVSg_YIvrFn",
        "outputId": "ce347c6a-f8e5-4c1f-c986-11646d14e77e"
      },
      "outputs": [
        {
          "output_type": "stream",
          "name": "stdout",
          "text": [
            "K'th smallest element is 3\n"
          ]
        }
      ],
      "source": [
        "\n",
        "import random\n",
        "def kthSmallest(arr, k):\n",
        "    n = len(arr)\n",
        "    temp = arr[:k]\n",
        "    random.shuffle(temp)\n",
        "    for i in range(k, n):\n",
        "        for j in range(k):\n",
        "            if arr[i] < temp[j]:\n",
        "                temp[j] = arr[i]\n",
        "                break\n",
        "    return temp[k - 1]\n",
        "arr = [12, 3, 5, 7, 19]\n",
        "k = 2\n",
        "print(\"K'th smallest element is\", kthSmallest(arr, k))"
      ]
    }
  ]
}