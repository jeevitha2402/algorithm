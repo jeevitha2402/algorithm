{
  "nbformat": 4,
  "nbformat_minor": 0,
  "metadata": {
    "colab": {
      "provenance": [],
      "authorship_tag": "ABX9TyN5YFxUhEbxbjZQpxCM1FYR",
      "include_colab_link": true
    },
    "kernelspec": {
      "name": "python3",
      "display_name": "Python 3"
    },
    "language_info": {
      "name": "python"
    }
  },
  "cells": [
    {
      "cell_type": "markdown",
      "metadata": {
        "id": "view-in-github",
        "colab_type": "text"
      },
      "source": [
        "<a href=\"https://colab.research.google.com/github/jeevitha2402/algorithm/blob/main/divide_and_conquer.ipynb\" target=\"_parent\"><img src=\"https://colab.research.google.com/assets/colab-badge.svg\" alt=\"Open In Colab\"/></a>"
      ]
    },
    {
      "cell_type": "code",
      "source": [
        "\n",
        "def find_max_min(numbers):\n",
        "    if len(numbers) == 1:\n",
        "        return (numbers[0], numbers[0])\n",
        "    mid = len(numbers) // 2\n",
        "    left_max, left_min = find_max_min(numbers[:mid])\n",
        "    right_max, right_min = find_max_min(numbers[mid:])\n",
        "    return (max(left_max, right_max), min(left_min, right_min))\n",
        "numbers = [3, 5, 2, 8, 1, 4, 10]\n",
        "max_num, min_num = find_max_min(numbers)\n",
        "print(\"Maximum number is:\", max_num)\n",
        "print(\"Minimum number is:\", min_num)"
      ],
      "metadata": {
        "colab": {
          "base_uri": "https://localhost:8080/"
        },
        "id": "8joCdeFL2vS8",
        "outputId": "f9f9c3b2-fd38-4440-ca52-aad757b517e5"
      },
      "execution_count": 9,
      "outputs": [
        {
          "output_type": "stream",
          "name": "stdout",
          "text": [
            "Maximum number is: 10\n",
            "Minimum number is: 1\n"
          ]
        }
      ]
    }
  ]
}