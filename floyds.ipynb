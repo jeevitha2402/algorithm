{
  "nbformat": 4,
  "nbformat_minor": 0,
  "metadata": {
    "colab": {
      "provenance": [],
      "authorship_tag": "ABX9TyOPR9xs2eqp3M7517m7iQpZ",
      "include_colab_link": true
    },
    "kernelspec": {
      "name": "python3",
      "display_name": "Python 3"
    },
    "language_info": {
      "name": "python"
    }
  },
  "cells": [
    {
      "cell_type": "markdown",
      "metadata": {
        "id": "view-in-github",
        "colab_type": "text"
      },
      "source": [
        "<a href=\"https://colab.research.google.com/github/jeevitha2402/algorithm/blob/main/floyds.ipynb\" target=\"_parent\"><img src=\"https://colab.research.google.com/assets/colab-badge.svg\" alt=\"Open In Colab\"/></a>"
      ]
    },
    {
      "cell_type": "code",
      "execution_count": 1,
      "metadata": {
        "colab": {
          "base_uri": "https://localhost:8080/"
        },
        "id": "1RB2QI76BGla",
        "outputId": "7b71a148-0870-4623-92d0-d61f13253094"
      },
      "outputs": [
        {
          "output_type": "stream",
          "name": "stdout",
          "text": [
            "[[0, 5, 7, 7], [4, 0, 2, 3], [3, 2, 0, 1], [5, 4, 2, 0]]\n"
          ]
        }
      ],
      "source": [
        "\n",
        "graph = [[0, 5, 9, 7],\n",
        "         [4, 0, 2, 8],\n",
        "         [3, 2, 0, 1],\n",
        "         [6, 5, 2, 0]]\n",
        "\n",
        "n = len(graph)\n",
        "dist = [[float('inf') for i in range(n)] for j in range(n)]\n",
        "for i in range(n):\n",
        "    for j in range(n):\n",
        "        dist[i][j] = graph[i][j]\n",
        "\n",
        "for k in range(n):\n",
        "    for i in range(n):\n",
        "        for j in range(n):\n",
        "            dist[i][j] = min(dist[i][j], dist[i][k] + dist[k][j])\n",
        "\n",
        "print(dist)"
      ]
    }
  ]
}