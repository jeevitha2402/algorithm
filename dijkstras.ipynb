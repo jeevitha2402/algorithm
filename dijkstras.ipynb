{
  "nbformat": 4,
  "nbformat_minor": 0,
  "metadata": {
    "colab": {
      "provenance": [],
      "authorship_tag": "ABX9TyP9cPWWBHnyzUiwmZH5CdG8",
      "include_colab_link": true
    },
    "kernelspec": {
      "name": "python3",
      "display_name": "Python 3"
    },
    "language_info": {
      "name": "python"
    }
  },
  "cells": [
    {
      "cell_type": "markdown",
      "metadata": {
        "id": "view-in-github",
        "colab_type": "text"
      },
      "source": [
        "<a href=\"https://colab.research.google.com/github/jeevitha2402/algorithm/blob/main/dijkstras.ipynb\" target=\"_parent\"><img src=\"https://colab.research.google.com/assets/colab-badge.svg\" alt=\"Open In Colab\"/></a>"
      ]
    },
    {
      "cell_type": "code",
      "execution_count": 1,
      "metadata": {
        "colab": {
          "base_uri": "https://localhost:8080/"
        },
        "id": "e_tbYoEWyek0",
        "outputId": "5a4575a1-0b6f-4521-dc82-16351ab55296"
      },
      "outputs": [
        {
          "output_type": "stream",
          "name": "stdout",
          "text": [
            "Shortest distance is 10\n",
            "And the path is ['A', 'C', 'B', 'D', 'F']\n"
          ]
        }
      ],
      "source": [
        "graph = {\n",
        "    'A': {'B': 5, 'C': 1},\n",
        "    'B': {'A': 5, 'C': 2, 'D': 1},\n",
        "    'C': {'A': 1, 'B': 2, 'D': 4, 'E': 8},\n",
        "    'D': {'B': 1, 'C': 4, 'E': 3, 'F': 6},\n",
        "    'E': {'C': 8, 'D': 3},\n",
        "    'F': {'D': 6}\n",
        "}\n",
        "\n",
        "def dijkstra(graph, start, goal):\n",
        "    shortest_distance = {node: float('inf') for node in graph}\n",
        "    shortest_distance[start] = 0\n",
        "    predecessor = {}\n",
        "    unseen_nodes = graph.copy()\n",
        "\n",
        "    while unseen_nodes:\n",
        "        min_node = min(unseen_nodes, key=lambda node: shortest_distance[node])\n",
        "        for child, weight in graph[min_node].items():\n",
        "            if (new_dist := shortest_distance[min_node] + weight) < shortest_distance[child]:\n",
        "                shortest_distance[child], predecessor[child] = new_dist, min_node\n",
        "        unseen_nodes.pop(min_node)\n",
        "\n",
        "    path, current_node = [], goal\n",
        "    while current_node != start:\n",
        "        path.insert(0, current_node)\n",
        "        current_node = predecessor.get(current_node)\n",
        "        if current_node is None:\n",
        "            print(\"Path not reachable\")\n",
        "            return\n",
        "\n",
        "    path.insert(0, start)\n",
        "    print(f\"Shortest distance is {shortest_distance[goal]}\")\n",
        "    print(f\"And the path is {path}\")\n",
        "\n",
        "dijkstra(graph, 'A', 'F')"
      ]
    }
  ]
}