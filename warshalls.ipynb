{
  "nbformat": 4,
  "nbformat_minor": 0,
  "metadata": {
    "colab": {
      "provenance": [],
      "toc_visible": true,
      "authorship_tag": "ABX9TyMXzzghahfck2O+80c9kNN1",
      "include_colab_link": true
    },
    "kernelspec": {
      "name": "python3",
      "display_name": "Python 3"
    },
    "language_info": {
      "name": "python"
    }
  },
  "cells": [
    {
      "cell_type": "markdown",
      "metadata": {
        "id": "view-in-github",
        "colab_type": "text"
      },
      "source": [
        "<a href=\"https://colab.research.google.com/github/jeevitha2402/algorithm/blob/main/warshalls.ipynb\" target=\"_parent\"><img src=\"https://colab.research.google.com/assets/colab-badge.svg\" alt=\"Open In Colab\"/></a>"
      ]
    },
    {
      "cell_type": "code",
      "execution_count": 1,
      "metadata": {
        "colab": {
          "base_uri": "https://localhost:8080/"
        },
        "id": "Trdy2SbD_mKD",
        "outputId": "82ceb8b0-a46c-4034-edc8-913340800105"
      },
      "outputs": [
        {
          "output_type": "stream",
          "name": "stdout",
          "text": [
            "[0, 1, 1, 1]\n",
            "[0, 1, 1, 1]\n",
            "[0, 1, 1, 1]\n",
            "[0, 1, 1, 1]\n"
          ]
        }
      ],
      "source": [
        "\n",
        "def warshalls_algorithm(graph):\n",
        "    n = len(graph)\n",
        "    tc = [[graph[i][j] for j in range(n)] for i in range(n)]\n",
        "\n",
        "    for k in range(n):\n",
        "        for i in range(n):\n",
        "            for j in range(n):\n",
        "                tc[i][j] = tc[i][j] or (tc[i][k] and tc[k][j])\n",
        "\n",
        "    return tc\n",
        "\n",
        "graph = [[0, 1, 0, 0],\n",
        "         [0, 0, 1, 0],\n",
        "         [0, 0, 0, 1],\n",
        "         [0, 1, 0, 0]]\n",
        "\n",
        "transitive_closure = warshalls_algorithm(graph)\n",
        "for row in transitive_closure:\n",
        "    print(row)"
      ]
    }
  ]
}