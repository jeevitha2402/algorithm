{
  "nbformat": 4,
  "nbformat_minor": 0,
  "metadata": {
    "colab": {
      "provenance": [],
      "authorship_tag": "ABX9TyNsp/FfFFZIvcQ0ors/7zwu",
      "include_colab_link": true
    },
    "kernelspec": {
      "name": "python3",
      "display_name": "Python 3"
    },
    "language_info": {
      "name": "python"
    }
  },
  "cells": [
    {
      "cell_type": "markdown",
      "metadata": {
        "id": "view-in-github",
        "colab_type": "text"
      },
      "source": [
        "<a href=\"https://colab.research.google.com/github/jeevitha2402/algorithm/blob/main/sales.ipynb\" target=\"_parent\"><img src=\"https://colab.research.google.com/assets/colab-badge.svg\" alt=\"Open In Colab\"/></a>"
      ]
    },
    {
      "cell_type": "code",
      "source": [
        "\n",
        "import numpy as np\n",
        "import math\n",
        "dist_matrix = np.array([[0, 10, 15, 20],\n",
        "                        [10, 0, 35, 25],\n",
        "                        [15, 35, 0, 30],\n",
        "                        [20, 25, 30, 0]])\n",
        "cost_matrix = np.array([[0, 10, 15, 20],\n",
        "                        [10, 0, 35, 25],\n",
        "                        [15, 35, 0, 30],\n",
        "                        [20, 25, 30, 0]])\n",
        "num_cities = 4\n",
        "def opt_solution(dist_matrix, cost_matrix, num_cities):\n",
        "    cost_matrix = np.zeros((num_cities, num_cities))\n",
        "\n",
        "    visited = [False] * num_cities\n",
        "\n",
        "    current_city = 0\n",
        "\n",
        "    total_cost = 0\n",
        "\n",
        "    visited[current_city] = True\n",
        "\n",
        "    for i in range(num_cities - 1):\n",
        "\n",
        "        min_cost = math.inf\n",
        "        next_city = 0\n",
        "\n",
        "        for j in range(num_cities):\n",
        "\n",
        "            if visited[j] == False:\n",
        "\n",
        "                if cost_matrix[current_city][j] < min_cost:\n",
        "\n",
        "                    min_cost = cost_matrix[current_city][j]\n",
        "\n",
        "                    next_city = j\n",
        "\n",
        "        current_city = next_city\n",
        "\n",
        "        visited[current_city] = True\n",
        "\n",
        "        total_cost += min_cost\n",
        "\n",
        "    return total_cost + cost_matrix[current_city][0]\n",
        "\n",
        "opt_sol = opt_solution(dist_matrix, cost_matrix, num_cities)\n",
        "print('Optimal Solution: ', opt_sol)\n",
        "\n",
        "\n",
        "def approx_algorithm(dist_matrix, cost_matrix, num_cities):\n",
        "\n",
        "    cost_matrix = np.zeros((num_cities, num_cities))\n",
        "\n",
        "    visited = [False] * num_cities\n",
        "\n",
        "    current_city = 0\n",
        "\n",
        "    total_cost = 0\n",
        "\n",
        "    visited[current_city] = True\n",
        "    for i in range(num_cities - 1):\n",
        "\n",
        "        min_cost = math.inf\n",
        "\n",
        "        next_city = 0\n",
        "\n",
        "        for j in range(num_cities):\n",
        "\n",
        "            if visited[j] == False:\n",
        "\n",
        "                if dist_matrix[current_city][j] < min_cost:\n",
        "\n",
        "                    min_cost = dist_matrix[current_city][j]\n",
        "\n",
        "                    next_city = j\n",
        "\n",
        "        total_cost += min_cost\n",
        "\n",
        "        visited[next_city] = True\n",
        "\n",
        "        current_city = next_city\n",
        "\n",
        "    return total_cost\n",
        "\n",
        "\n",
        "approx_sol = approx_algorithm(dist_matrix, cost_matrix, num_cities)\n",
        "\n",
        "print('Approximated Solution: ', approx_sol)\n",
        "\n",
        "\n",
        "error = opt_sol - approx_sol\n",
        "\n",
        "print('Error: ', error)"
      ],
      "metadata": {
        "colab": {
          "base_uri": "https://localhost:8080/"
        },
        "id": "EJWcrnM8zG5A",
        "outputId": "883c792f-0185-4b54-b82d-a9ff7536b0fc"
      },
      "execution_count": 5,
      "outputs": [
        {
          "output_type": "stream",
          "name": "stdout",
          "text": [
            "Optimal Solution:  0.0\n",
            "Approximated Solution:  65\n",
            "Error:  -65.0\n"
          ]
        }
      ]
    }
  ]
}