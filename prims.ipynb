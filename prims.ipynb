{
  "nbformat": 4,
  "nbformat_minor": 0,
  "metadata": {
    "colab": {
      "provenance": [],
      "authorship_tag": "ABX9TyO5ZZC1k/njUBG9v4kxu0eu",
      "include_colab_link": true
    },
    "kernelspec": {
      "name": "python3",
      "display_name": "Python 3"
    },
    "language_info": {
      "name": "python"
    }
  },
  "cells": [
    {
      "cell_type": "markdown",
      "metadata": {
        "id": "view-in-github",
        "colab_type": "text"
      },
      "source": [
        "<a href=\"https://colab.research.google.com/github/jeevitha2402/algorithm/blob/main/prims.ipynb\" target=\"_parent\"><img src=\"https://colab.research.google.com/assets/colab-badge.svg\" alt=\"Open In Colab\"/></a>"
      ]
    },
    {
      "cell_type": "code",
      "execution_count": 1,
      "metadata": {
        "colab": {
          "base_uri": "https://localhost:8080/"
        },
        "id": "xehHqMnjzVjb",
        "outputId": "0f4b5716-5434-4d69-9264-470c10869c91"
      },
      "outputs": [
        {
          "output_type": "stream",
          "name": "stdout",
          "text": [
            "Edge \tWeight\n",
            "0-1\t2\n",
            "1-2\t3\n",
            "0-3\t6\n",
            "1-4\t5\n"
          ]
        }
      ],
      "source": [
        "def primMST(graph):\n",
        "    V = len(graph)\n",
        "    parent = [None] * V\n",
        "    key = [float('inf')] * V\n",
        "    mstSet = [False] * V\n",
        "\n",
        "    key[0] = 0\n",
        "    parent[0] = -1\n",
        "\n",
        "    for cout in range(V - 1):\n",
        "        minKey = float('inf')\n",
        "        min_index = -1\n",
        "\n",
        "        for v in range(V):\n",
        "            if not mstSet[v] and key[v] < minKey:\n",
        "                minKey = key[v]\n",
        "                min_index = v\n",
        "\n",
        "        u = min_index\n",
        "        mstSet[u] = True\n",
        "\n",
        "        for v in range(V):\n",
        "            if graph[u][v] > 0 and not mstSet[v] and graph[u][v] < key[v]:\n",
        "                parent[v] = u\n",
        "                key[v] = graph[u][v]\n",
        "\n",
        "    printMST(parent, graph)\n",
        "\n",
        "def printMST(parent, graph):\n",
        "    print(\"Edge \\tWeight\")\n",
        "    for i in range(1, len(graph)):\n",
        "        print(f\"{parent[i]}-{i}\\t{graph[i][parent[i]]}\")\n",
        "\n",
        "# Driver code\n",
        "if __name__ == '__main__':\n",
        "    graph = [\n",
        "        [0, 2, 0, 6, 0],\n",
        "        [2, 0, 3, 8, 5],\n",
        "        [0, 3, 0, 0, 7],\n",
        "        [6, 8, 0, 0, 9],\n",
        "        [0, 5, 7, 9, 0]\n",
        "    ]\n",
        "\n",
        "    primMST(graph)"
      ]
    }
  ]
}